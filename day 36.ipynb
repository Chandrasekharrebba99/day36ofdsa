{
 "cells": [
  {
   "cell_type": "markdown",
   "id": "7a6f499f",
   "metadata": {},
   "source": [
    "# max consicutive array"
   ]
  },
  {
   "cell_type": "code",
   "execution_count": 1,
   "id": "e56a144b",
   "metadata": {},
   "outputs": [
    {
     "name": "stdout",
     "output_type": "stream",
     "text": [
      "5\n",
      "1 1 0 1 1 0 1 1 1 1\n",
      "4\n"
     ]
    }
   ],
   "source": [
    "N = int(input())\n",
    "\n",
    "arr = list(map(int,input().split()))\n",
    "\n",
    "\n",
    "def maxcount(arr,N):\n",
    "    count = 0\n",
    "    maxcount  = 0\n",
    "    for i in arr:\n",
    "        if i == 1:\n",
    "            count +=1\n",
    "        else:\n",
    "            maxcount = max(maxcount,count)\n",
    "            count = 0\n",
    "    print(max(maxcount,count))\n",
    "\n",
    "maxcount(arr,N)\n",
    "\n"
   ]
  },
  {
   "cell_type": "markdown",
   "id": "f7dfdb40",
   "metadata": {},
   "source": [
    "# find pairs in array two pointer method"
   ]
  },
  {
   "cell_type": "code",
   "execution_count": 3,
   "id": "9375b3bf",
   "metadata": {},
   "outputs": [
    {
     "name": "stdout",
     "output_type": "stream",
     "text": [
      "5 10\n",
      "2 3 5 6 8\n",
      "0 4\n"
     ]
    }
   ],
   "source": [
    "O = input()\n",
    "M = list(map(int,O.split()))\n",
    "\n",
    "N = M[0]\n",
    "K = M[1]\n",
    "arr = list(map(int,input().split()))\n",
    "\n",
    "pointer1 = 0\n",
    "pointer2 = len(arr)-1\n",
    "p1=0\n",
    "p2=0\n",
    "while pointer2>pointer1:\n",
    "    if arr[pointer1] +arr[pointer2] == K:\n",
    "        p1 = pointer1\n",
    "        p2 = pointer2\n",
    "        break\n",
    "    elif arr[pointer1] +arr[pointer2] <K:\n",
    "        pointer1 +=1\n",
    "    else:\n",
    "        pointer2 -=1\n",
    "if p1 ==p2:\n",
    "    print(\"-1\")\n",
    "else:\n",
    "    print(p1,p2)"
   ]
  },
  {
   "cell_type": "markdown",
   "id": "a655291f",
   "metadata": {},
   "source": [
    "# Search range k\n",
    "starting and ending index of k in arr"
   ]
  },
  {
   "cell_type": "code",
   "execution_count": 4,
   "id": "c4d4307c",
   "metadata": {},
   "outputs": [
    {
     "name": "stdout",
     "output_type": "stream",
     "text": [
      "5\n",
      "1 2 2 2 3\n",
      "2\n",
      "1 3\n"
     ]
    }
   ],
   "source": [
    "N = int(input())\n",
    "\n",
    "arr = list(map(int,input().split()))\n",
    "K = int(input())\n",
    "\n",
    "\n",
    "\n",
    "\n",
    "indarr = []\n",
    "for i in range(len(arr)):\n",
    "    if arr[i] == K:\n",
    "        indarr.append(i)\n",
    "\n",
    "if len(indarr)>0:\n",
    "    print(indarr[0],end=\" \")\n",
    "    print(indarr[-1])\n",
    "else:\n",
    "    print(\"-1\")\n",
    "        \n",
    "    "
   ]
  },
  {
   "cell_type": "code",
   "execution_count": null,
   "id": "62c65f30",
   "metadata": {},
   "outputs": [],
   "source": []
  }
 ],
 "metadata": {
  "kernelspec": {
   "display_name": "Python 3 (ipykernel)",
   "language": "python",
   "name": "python3"
  },
  "language_info": {
   "codemirror_mode": {
    "name": "ipython",
    "version": 3
   },
   "file_extension": ".py",
   "mimetype": "text/x-python",
   "name": "python",
   "nbconvert_exporter": "python",
   "pygments_lexer": "ipython3",
   "version": "3.9.7"
  }
 },
 "nbformat": 4,
 "nbformat_minor": 5
}
